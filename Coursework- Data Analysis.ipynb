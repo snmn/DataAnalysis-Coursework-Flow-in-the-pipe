{
 "cells": [
  {
   "cell_type": "code",
   "execution_count": 193,
   "metadata": {},
   "outputs": [],
   "source": [
    "#Importing Libraries"
   ]
  },
  {
   "cell_type": "code",
   "execution_count": 194,
   "metadata": {},
   "outputs": [],
   "source": [
    "import pandas as pd\n",
    "import numpy as np\n",
    "import matplotlib.pyplot as plt\n",
    "import seaborn as sns\n",
    "%matplotlib inline"
   ]
  },
  {
   "cell_type": "code",
   "execution_count": 195,
   "metadata": {},
   "outputs": [],
   "source": [
    "np.random.seed(2)"
   ]
  },
  {
   "cell_type": "code",
   "execution_count": 196,
   "metadata": {},
   "outputs": [],
   "source": [
    "#sklearn"
   ]
  },
  {
   "cell_type": "code",
   "execution_count": 197,
   "metadata": {},
   "outputs": [],
   "source": [
    "from sklearn.model_selection import train_test_split\n",
    "from sklearn.metrics import confusion_matrix\n",
    "import itertools\n",
    "\n",
    "\n",
    "sns.set(style='white', context='notebook', palette='deep')"
   ]
  },
  {
   "cell_type": "markdown",
   "metadata": {},
   "source": [
    "# TASK 1: DATA PRE-PROCESSING and EXPLORATION"
   ]
  },
  {
   "cell_type": "code",
   "execution_count": 198,
   "metadata": {},
   "outputs": [],
   "source": [
    "#loading the data (both training and testing set)"
   ]
  },
  {
   "cell_type": "code",
   "execution_count": 199,
   "metadata": {},
   "outputs": [
    {
     "data": {
      "text/html": [
       "<div>\n",
       "<style scoped>\n",
       "    .dataframe tbody tr th:only-of-type {\n",
       "        vertical-align: middle;\n",
       "    }\n",
       "\n",
       "    .dataframe tbody tr th {\n",
       "        vertical-align: top;\n",
       "    }\n",
       "\n",
       "    .dataframe thead th {\n",
       "        text-align: right;\n",
       "    }\n",
       "</style>\n",
       "<table border=\"1\" class=\"dataframe\">\n",
       "  <thead>\n",
       "    <tr style=\"text-align: right;\">\n",
       "      <th></th>\n",
       "      <th>F1</th>\n",
       "      <th>F2</th>\n",
       "      <th>F3</th>\n",
       "      <th>F4</th>\n",
       "      <th>F5</th>\n",
       "      <th>F6</th>\n",
       "      <th>F7</th>\n",
       "      <th>F8</th>\n",
       "      <th>F9</th>\n",
       "      <th>F10</th>\n",
       "      <th>F11</th>\n",
       "      <th>F12</th>\n",
       "      <th>L</th>\n",
       "    </tr>\n",
       "  </thead>\n",
       "  <tbody>\n",
       "    <tr>\n",
       "      <th>0</th>\n",
       "      <td>0.3315</td>\n",
       "      <td>0.2156</td>\n",
       "      <td>0.6802</td>\n",
       "      <td>0.1434</td>\n",
       "      <td>0.6825</td>\n",
       "      <td>0.2720</td>\n",
       "      <td>0.6223</td>\n",
       "      <td>0.2092</td>\n",
       "      <td>0.7961</td>\n",
       "      <td>0.1530</td>\n",
       "      <td>0.5856</td>\n",
       "      <td>0.2573</td>\n",
       "      <td>1</td>\n",
       "    </tr>\n",
       "    <tr>\n",
       "      <th>1</th>\n",
       "      <td>0.0939</td>\n",
       "      <td>1.0089</td>\n",
       "      <td>0.0365</td>\n",
       "      <td>0.6944</td>\n",
       "      <td>0.0908</td>\n",
       "      <td>0.4961</td>\n",
       "      <td>0.0722</td>\n",
       "      <td>0.6521</td>\n",
       "      <td>-0.0130</td>\n",
       "      <td>0.6085</td>\n",
       "      <td>0.0631</td>\n",
       "      <td>0.6597</td>\n",
       "      <td>2</td>\n",
       "    </tr>\n",
       "    <tr>\n",
       "      <th>2</th>\n",
       "      <td>0.5184</td>\n",
       "      <td>0.2283</td>\n",
       "      <td>0.5300</td>\n",
       "      <td>0.6884</td>\n",
       "      <td>0.7456</td>\n",
       "      <td>0.6171</td>\n",
       "      <td>0.6136</td>\n",
       "      <td>0.5928</td>\n",
       "      <td>0.7678</td>\n",
       "      <td>0.6130</td>\n",
       "      <td>0.6705</td>\n",
       "      <td>0.5202</td>\n",
       "      <td>1</td>\n",
       "    </tr>\n",
       "    <tr>\n",
       "      <th>3</th>\n",
       "      <td>0.4208</td>\n",
       "      <td>0.6740</td>\n",
       "      <td>0.1651</td>\n",
       "      <td>0.7592</td>\n",
       "      <td>0.1810</td>\n",
       "      <td>0.5448</td>\n",
       "      <td>0.1707</td>\n",
       "      <td>0.7554</td>\n",
       "      <td>0.1635</td>\n",
       "      <td>0.5492</td>\n",
       "      <td>0.2598</td>\n",
       "      <td>0.6455</td>\n",
       "      <td>2</td>\n",
       "    </tr>\n",
       "    <tr>\n",
       "      <th>4</th>\n",
       "      <td>0.3130</td>\n",
       "      <td>0.6465</td>\n",
       "      <td>0.5908</td>\n",
       "      <td>0.6924</td>\n",
       "      <td>0.7664</td>\n",
       "      <td>0.6262</td>\n",
       "      <td>1.7177</td>\n",
       "      <td>0.0150</td>\n",
       "      <td>0.0851</td>\n",
       "      <td>1.9046</td>\n",
       "      <td>-0.0165</td>\n",
       "      <td>0.0221</td>\n",
       "      <td>3</td>\n",
       "    </tr>\n",
       "  </tbody>\n",
       "</table>\n",
       "</div>"
      ],
      "text/plain": [
       "       F1      F2      F3      F4      F5      F6      F7      F8      F9  \\\n",
       "0  0.3315  0.2156  0.6802  0.1434  0.6825  0.2720  0.6223  0.2092  0.7961   \n",
       "1  0.0939  1.0089  0.0365  0.6944  0.0908  0.4961  0.0722  0.6521 -0.0130   \n",
       "2  0.5184  0.2283  0.5300  0.6884  0.7456  0.6171  0.6136  0.5928  0.7678   \n",
       "3  0.4208  0.6740  0.1651  0.7592  0.1810  0.5448  0.1707  0.7554  0.1635   \n",
       "4  0.3130  0.6465  0.5908  0.6924  0.7664  0.6262  1.7177  0.0150  0.0851   \n",
       "\n",
       "      F10     F11     F12  L  \n",
       "0  0.1530  0.5856  0.2573  1  \n",
       "1  0.6085  0.0631  0.6597  2  \n",
       "2  0.6130  0.6705  0.5202  1  \n",
       "3  0.5492  0.2598  0.6455  2  \n",
       "4  1.9046 -0.0165  0.0221  3  "
      ]
     },
     "execution_count": 199,
     "metadata": {},
     "output_type": "execute_result"
    }
   ],
   "source": [
    "# Loading train and test data\n",
    "train = pd.read_csv(\"datasets provided/trndata.csv\")\n",
    "test = pd.read_csv(\"datasets provided/tstdata.csv\")\n",
    "train.head()"
   ]
  },
  {
   "cell_type": "code",
   "execution_count": 200,
   "metadata": {},
   "outputs": [
    {
     "data": {
      "text/html": [
       "<div>\n",
       "<style scoped>\n",
       "    .dataframe tbody tr th:only-of-type {\n",
       "        vertical-align: middle;\n",
       "    }\n",
       "\n",
       "    .dataframe tbody tr th {\n",
       "        vertical-align: top;\n",
       "    }\n",
       "\n",
       "    .dataframe thead th {\n",
       "        text-align: right;\n",
       "    }\n",
       "</style>\n",
       "<table border=\"1\" class=\"dataframe\">\n",
       "  <thead>\n",
       "    <tr style=\"text-align: right;\">\n",
       "      <th></th>\n",
       "      <th>F1</th>\n",
       "      <th>F2</th>\n",
       "      <th>F3</th>\n",
       "      <th>F4</th>\n",
       "      <th>F5</th>\n",
       "      <th>F6</th>\n",
       "      <th>F7</th>\n",
       "      <th>F8</th>\n",
       "      <th>F9</th>\n",
       "      <th>F10</th>\n",
       "      <th>F11</th>\n",
       "      <th>F12</th>\n",
       "      <th>L</th>\n",
       "    </tr>\n",
       "  </thead>\n",
       "  <tbody>\n",
       "    <tr>\n",
       "      <th>0</th>\n",
       "      <td>0.5803</td>\n",
       "      <td>0.4980</td>\n",
       "      <td>0.8809</td>\n",
       "      <td>0.8215</td>\n",
       "      <td>1.0133</td>\n",
       "      <td>0.9187</td>\n",
       "      <td>0.8508</td>\n",
       "      <td>0.8496</td>\n",
       "      <td>0.9996</td>\n",
       "      <td>0.9670</td>\n",
       "      <td>0.9111</td>\n",
       "      <td>0.7814</td>\n",
       "      <td>1</td>\n",
       "    </tr>\n",
       "    <tr>\n",
       "      <th>1</th>\n",
       "      <td>0.0026</td>\n",
       "      <td>0.6084</td>\n",
       "      <td>0.2808</td>\n",
       "      <td>0.6282</td>\n",
       "      <td>0.2995</td>\n",
       "      <td>0.7513</td>\n",
       "      <td>-0.0107</td>\n",
       "      <td>1.7503</td>\n",
       "      <td>-0.0622</td>\n",
       "      <td>2.0704</td>\n",
       "      <td>-0.0999</td>\n",
       "      <td>0.1214</td>\n",
       "      <td>3</td>\n",
       "    </tr>\n",
       "    <tr>\n",
       "      <th>2</th>\n",
       "      <td>-0.0115</td>\n",
       "      <td>1.1193</td>\n",
       "      <td>0.2201</td>\n",
       "      <td>1.3189</td>\n",
       "      <td>0.2656</td>\n",
       "      <td>1.4039</td>\n",
       "      <td>-0.0067</td>\n",
       "      <td>1.7438</td>\n",
       "      <td>0.0013</td>\n",
       "      <td>2.0020</td>\n",
       "      <td>-0.0401</td>\n",
       "      <td>1.7797</td>\n",
       "      <td>3</td>\n",
       "    </tr>\n",
       "    <tr>\n",
       "      <th>3</th>\n",
       "      <td>-0.0536</td>\n",
       "      <td>1.0370</td>\n",
       "      <td>0.0558</td>\n",
       "      <td>1.2483</td>\n",
       "      <td>0.2640</td>\n",
       "      <td>1.1456</td>\n",
       "      <td>0.0140</td>\n",
       "      <td>1.7156</td>\n",
       "      <td>0.0125</td>\n",
       "      <td>1.9889</td>\n",
       "      <td>-0.0598</td>\n",
       "      <td>0.0709</td>\n",
       "      <td>3</td>\n",
       "    </tr>\n",
       "    <tr>\n",
       "      <th>4</th>\n",
       "      <td>0.5021</td>\n",
       "      <td>0.4270</td>\n",
       "      <td>0.6450</td>\n",
       "      <td>0.8325</td>\n",
       "      <td>0.7560</td>\n",
       "      <td>0.9235</td>\n",
       "      <td>0.7289</td>\n",
       "      <td>0.7352</td>\n",
       "      <td>0.7735</td>\n",
       "      <td>0.9298</td>\n",
       "      <td>0.6013</td>\n",
       "      <td>0.8842</td>\n",
       "      <td>1</td>\n",
       "    </tr>\n",
       "  </tbody>\n",
       "</table>\n",
       "</div>"
      ],
      "text/plain": [
       "       F1      F2      F3      F4      F5      F6      F7      F8      F9  \\\n",
       "0  0.5803  0.4980  0.8809  0.8215  1.0133  0.9187  0.8508  0.8496  0.9996   \n",
       "1  0.0026  0.6084  0.2808  0.6282  0.2995  0.7513 -0.0107  1.7503 -0.0622   \n",
       "2 -0.0115  1.1193  0.2201  1.3189  0.2656  1.4039 -0.0067  1.7438  0.0013   \n",
       "3 -0.0536  1.0370  0.0558  1.2483  0.2640  1.1456  0.0140  1.7156  0.0125   \n",
       "4  0.5021  0.4270  0.6450  0.8325  0.7560  0.9235  0.7289  0.7352  0.7735   \n",
       "\n",
       "      F10     F11     F12  L  \n",
       "0  0.9670  0.9111  0.7814  1  \n",
       "1  2.0704 -0.0999  0.1214  3  \n",
       "2  2.0020 -0.0401  1.7797  3  \n",
       "3  1.9889 -0.0598  0.0709  3  \n",
       "4  0.9298  0.6013  0.8842  1  "
      ]
     },
     "execution_count": 200,
     "metadata": {},
     "output_type": "execute_result"
    }
   ],
   "source": [
    "test.head()"
   ]
  },
  {
   "cell_type": "code",
   "execution_count": 201,
   "metadata": {},
   "outputs": [
    {
     "data": {
      "text/plain": [
       "1000"
      ]
     },
     "execution_count": 201,
     "metadata": {},
     "output_type": "execute_result"
    }
   ],
   "source": [
    "len(train) #length for train set"
   ]
  },
  {
   "cell_type": "code",
   "execution_count": 202,
   "metadata": {},
   "outputs": [
    {
     "data": {
      "text/plain": [
       "300"
      ]
     },
     "execution_count": 202,
     "metadata": {},
     "output_type": "execute_result"
    }
   ],
   "source": [
    "len(test) #length for test set"
   ]
  },
  {
   "cell_type": "code",
   "execution_count": 203,
   "metadata": {},
   "outputs": [
    {
     "name": "stderr",
     "output_type": "stream",
     "text": [
      "C:\\Users\\seaso\\anaconda3\\lib\\site-packages\\seaborn\\_decorators.py:36: FutureWarning: Pass the following variable as a keyword arg: x. From version 0.12, the only valid positional argument will be `data`, and passing other arguments without an explicit keyword will result in an error or misinterpretation.\n",
      "  warnings.warn(\n"
     ]
    },
    {
     "data": {
      "text/plain": [
       "1    343\n",
       "3    341\n",
       "2    316\n",
       "Name: L, dtype: int64"
      ]
     },
     "execution_count": 203,
     "metadata": {},
     "output_type": "execute_result"
    },
    {
     "data": {
      "image/png": "[encoded data removed]",
      "text/plain": [
       "<Figure size 432x288 with 1 Axes>"
      ]
     },
     "metadata": {},
     "output_type": "display_data"
    }
   ],
   "source": [
    "\n",
    "\n",
    "Y_train = train[\"L\"]\n",
    "\n",
    "# Drop 'label' column\n",
    "X_train = train.drop(labels = [\"L\"],axis = 1)  \n",
    "\n",
    "g = sns.countplot(Y_train)\n",
    "\n",
    "Y_train.value_counts()\n",
    "\n"
   ]
  },
  {
   "cell_type": "code",
   "execution_count": 204,
   "metadata": {},
   "outputs": [
    {
     "data": {
      "text/plain": [
       "count        12\n",
       "unique        1\n",
       "top       False\n",
       "freq         12\n",
       "dtype: object"
      ]
     },
     "execution_count": 204,
     "metadata": {},
     "output_type": "execute_result"
    }
   ],
   "source": [
    "# Check the data\n",
    "X_train.isnull().any().describe()"
   ]
  },
  {
   "cell_type": "code",
   "execution_count": 205,
   "metadata": {},
   "outputs": [
    {
     "data": {
      "text/plain": [
       "count        13\n",
       "unique        1\n",
       "top       False\n",
       "freq         13\n",
       "dtype: object"
      ]
     },
     "execution_count": 205,
     "metadata": {},
     "output_type": "execute_result"
    }
   ],
   "source": [
    "test.isnull().any().describe()"
   ]
  },
  {
   "cell_type": "code",
   "execution_count": 206,
   "metadata": {},
   "outputs": [
    {
     "name": "stderr",
     "output_type": "stream",
     "text": [
      "C:\\Users\\seaso\\anaconda3\\lib\\site-packages\\seaborn\\_decorators.py:36: FutureWarning: Pass the following variable as a keyword arg: x. From version 0.12, the only valid positional argument will be `data`, and passing other arguments without an explicit keyword will result in an error or misinterpretation.\n",
      "  warnings.warn(\n"
     ]
    },
    {
     "data": {
      "text/plain": [
       "3    104\n",
       "2     98\n",
       "1     98\n",
       "Name: L, dtype: int64"
      ]
     },
     "execution_count": 206,
     "metadata": {},
     "output_type": "execute_result"
    },
    {
     "data": {
      "image/png": "[encoded data removed]",
      "text/plain": [
       "<Figure size 432x288 with 1 Axes>"
      ]
     },
     "metadata": {},
     "output_type": "display_data"
    }
   ],
   "source": [
    "\n",
    "\n",
    "Y_test = test[\"L\"]\n",
    "\n",
    "# Drop 'label' column\n",
    "X_test = test.drop(labels = [\"L\"],axis = 1) \n",
    "\n",
    "g = sns.countplot(Y_test)\n",
    "\n",
    "Y_test.value_counts()"
   ]
  },
  {
   "cell_type": "code",
   "execution_count": 207,
   "metadata": {},
   "outputs": [],
   "source": [
    "from sklearn.utils import shuffle"
   ]
  },
  {
   "cell_type": "code",
   "execution_count": 208,
   "metadata": {},
   "outputs": [],
   "source": [
    "train,X_train, Y_train = shuffle(train, X_train, Y_train, random_state=0)"
   ]
  },
  {
   "cell_type": "code",
   "execution_count": 209,
   "metadata": {},
   "outputs": [
    {
     "data": {
      "text/html": [
       "<div>\n",
       "<style scoped>\n",
       "    .dataframe tbody tr th:only-of-type {\n",
       "        vertical-align: middle;\n",
       "    }\n",
       "\n",
       "    .dataframe tbody tr th {\n",
       "        vertical-align: top;\n",
       "    }\n",
       "\n",
       "    .dataframe thead th {\n",
       "        text-align: right;\n",
       "    }\n",
       "</style>\n",
       "<table border=\"1\" class=\"dataframe\">\n",
       "  <thead>\n",
       "    <tr style=\"text-align: right;\">\n",
       "      <th></th>\n",
       "      <th>F1</th>\n",
       "      <th>F2</th>\n",
       "      <th>F3</th>\n",
       "      <th>F4</th>\n",
       "      <th>F5</th>\n",
       "      <th>F6</th>\n",
       "      <th>F7</th>\n",
       "      <th>F8</th>\n",
       "      <th>F9</th>\n",
       "      <th>F10</th>\n",
       "      <th>F11</th>\n",
       "      <th>F12</th>\n",
       "    </tr>\n",
       "  </thead>\n",
       "  <tbody>\n",
       "    <tr>\n",
       "      <th>993</th>\n",
       "      <td>0.3907</td>\n",
       "      <td>0.6294</td>\n",
       "      <td>0.5879</td>\n",
       "      <td>0.7718</td>\n",
       "      <td>0.8172</td>\n",
       "      <td>0.6377</td>\n",
       "      <td>1.6973</td>\n",
       "      <td>0.0452</td>\n",
       "      <td>0.1263</td>\n",
       "      <td>1.8459</td>\n",
       "      <td>-0.0019</td>\n",
       "      <td>0.0013</td>\n",
       "    </tr>\n",
       "    <tr>\n",
       "      <th>859</th>\n",
       "      <td>0.3116</td>\n",
       "      <td>0.2006</td>\n",
       "      <td>0.6378</td>\n",
       "      <td>0.1844</td>\n",
       "      <td>0.8251</td>\n",
       "      <td>0.1021</td>\n",
       "      <td>1.7316</td>\n",
       "      <td>-0.0020</td>\n",
       "      <td>-0.0054</td>\n",
       "      <td>0.0055</td>\n",
       "      <td>0.0616</td>\n",
       "      <td>-0.0748</td>\n",
       "    </tr>\n",
       "    <tr>\n",
       "      <th>298</th>\n",
       "      <td>-0.0482</td>\n",
       "      <td>0.6359</td>\n",
       "      <td>0.0180</td>\n",
       "      <td>0.8810</td>\n",
       "      <td>0.2713</td>\n",
       "      <td>0.7287</td>\n",
       "      <td>-0.0079</td>\n",
       "      <td>1.7429</td>\n",
       "      <td>-0.0730</td>\n",
       "      <td>2.0824</td>\n",
       "      <td>0.0142</td>\n",
       "      <td>-0.0183</td>\n",
       "    </tr>\n",
       "    <tr>\n",
       "      <th>553</th>\n",
       "      <td>0.2398</td>\n",
       "      <td>0.5381</td>\n",
       "      <td>0.4280</td>\n",
       "      <td>0.7827</td>\n",
       "      <td>0.4594</td>\n",
       "      <td>0.9249</td>\n",
       "      <td>0.4543</td>\n",
       "      <td>0.7498</td>\n",
       "      <td>0.4837</td>\n",
       "      <td>0.9178</td>\n",
       "      <td>0.3558</td>\n",
       "      <td>0.8688</td>\n",
       "    </tr>\n",
       "    <tr>\n",
       "      <th>672</th>\n",
       "      <td>0.4894</td>\n",
       "      <td>0.2322</td>\n",
       "      <td>0.9444</td>\n",
       "      <td>0.1599</td>\n",
       "      <td>1.1365</td>\n",
       "      <td>0.1100</td>\n",
       "      <td>0.9970</td>\n",
       "      <td>0.0940</td>\n",
       "      <td>1.0839</td>\n",
       "      <td>0.1925</td>\n",
       "      <td>0.9986</td>\n",
       "      <td>0.0970</td>\n",
       "    </tr>\n",
       "    <tr>\n",
       "      <th>...</th>\n",
       "      <td>...</td>\n",
       "      <td>...</td>\n",
       "      <td>...</td>\n",
       "      <td>...</td>\n",
       "      <td>...</td>\n",
       "      <td>...</td>\n",
       "      <td>...</td>\n",
       "      <td>...</td>\n",
       "      <td>...</td>\n",
       "      <td>...</td>\n",
       "      <td>...</td>\n",
       "      <td>...</td>\n",
       "    </tr>\n",
       "    <tr>\n",
       "      <th>835</th>\n",
       "      <td>0.4713</td>\n",
       "      <td>0.4386</td>\n",
       "      <td>0.7293</td>\n",
       "      <td>0.6936</td>\n",
       "      <td>0.7792</td>\n",
       "      <td>0.8545</td>\n",
       "      <td>0.6979</td>\n",
       "      <td>0.7343</td>\n",
       "      <td>0.8918</td>\n",
       "      <td>0.7419</td>\n",
       "      <td>0.6975</td>\n",
       "      <td>0.7380</td>\n",
       "    </tr>\n",
       "    <tr>\n",
       "      <th>192</th>\n",
       "      <td>0.0429</td>\n",
       "      <td>0.7170</td>\n",
       "      <td>0.2490</td>\n",
       "      <td>0.8308</td>\n",
       "      <td>0.4208</td>\n",
       "      <td>0.7661</td>\n",
       "      <td>-0.0232</td>\n",
       "      <td>1.7629</td>\n",
       "      <td>0.0186</td>\n",
       "      <td>1.9788</td>\n",
       "      <td>-0.0687</td>\n",
       "      <td>0.0813</td>\n",
       "    </tr>\n",
       "    <tr>\n",
       "      <th>629</th>\n",
       "      <td>0.9711</td>\n",
       "      <td>0.1022</td>\n",
       "      <td>1.4946</td>\n",
       "      <td>0.2016</td>\n",
       "      <td>1.7635</td>\n",
       "      <td>0.1583</td>\n",
       "      <td>1.5542</td>\n",
       "      <td>0.1290</td>\n",
       "      <td>1.8343</td>\n",
       "      <td>0.1014</td>\n",
       "      <td>1.4889</td>\n",
       "      <td>0.2066</td>\n",
       "    </tr>\n",
       "    <tr>\n",
       "      <th>559</th>\n",
       "      <td>0.4445</td>\n",
       "      <td>0.4328</td>\n",
       "      <td>0.7354</td>\n",
       "      <td>0.6306</td>\n",
       "      <td>0.7351</td>\n",
       "      <td>0.8423</td>\n",
       "      <td>0.7142</td>\n",
       "      <td>0.6597</td>\n",
       "      <td>0.8077</td>\n",
       "      <td>0.7814</td>\n",
       "      <td>0.6867</td>\n",
       "      <td>0.6933</td>\n",
       "    </tr>\n",
       "    <tr>\n",
       "      <th>684</th>\n",
       "      <td>1.0203</td>\n",
       "      <td>0.1023</td>\n",
       "      <td>1.3399</td>\n",
       "      <td>0.3863</td>\n",
       "      <td>0.8918</td>\n",
       "      <td>0.4010</td>\n",
       "      <td>1.4000</td>\n",
       "      <td>0.3113</td>\n",
       "      <td>0.9264</td>\n",
       "      <td>0.3066</td>\n",
       "      <td>1.2568</td>\n",
       "      <td>0.4880</td>\n",
       "    </tr>\n",
       "  </tbody>\n",
       "</table>\n",
       "<p>1000 rows × 12 columns</p>\n",
       "</div>"
      ],
      "text/plain": [
       "         F1      F2      F3      F4      F5      F6      F7      F8      F9  \\\n",
       "993  0.3907  0.6294  0.5879  0.7718  0.8172  0.6377  1.6973  0.0452  0.1263   \n",
       "859  0.3116  0.2006  0.6378  0.1844  0.8251  0.1021  1.7316 -0.0020 -0.0054   \n",
       "298 -0.0482  0.6359  0.0180  0.8810  0.2713  0.7287 -0.0079  1.7429 -0.0730   \n",
       "553  0.2398  0.5381  0.4280  0.7827  0.4594  0.9249  0.4543  0.7498  0.4837   \n",
       "672  0.4894  0.2322  0.9444  0.1599  1.1365  0.1100  0.9970  0.0940  1.0839   \n",
       "..      ...     ...     ...     ...     ...     ...     ...     ...     ...   \n",
       "835  0.4713  0.4386  0.7293  0.6936  0.7792  0.8545  0.6979  0.7343  0.8918   \n",
       "192  0.0429  0.7170  0.2490  0.8308  0.4208  0.7661 -0.0232  1.7629  0.0186   \n",
       "629  0.9711  0.1022  1.4946  0.2016  1.7635  0.1583  1.5542  0.1290  1.8343   \n",
       "559  0.4445  0.4328  0.7354  0.6306  0.7351  0.8423  0.7142  0.6597  0.8077   \n",
       "684  1.0203  0.1023  1.3399  0.3863  0.8918  0.4010  1.4000  0.3113  0.9264   \n",
       "\n",
       "        F10     F11     F12  \n",
       "993  1.8459 -0.0019  0.0013  \n",
       "859  0.0055  0.0616 -0.0748  \n",
       "298  2.0824  0.0142 -0.0183  \n",
       "553  0.9178  0.3558  0.8688  \n",
       "672  0.1925  0.9986  0.0970  \n",
       "..      ...     ...     ...  \n",
       "835  0.7419  0.6975  0.7380  \n",
       "192  1.9788 -0.0687  0.0813  \n",
       "629  0.1014  1.4889  0.2066  \n",
       "559  0.7814  0.6867  0.6933  \n",
       "684  0.3066  1.2568  0.4880  \n",
       "\n",
       "[1000 rows x 12 columns]"
      ]
     },
     "execution_count": 209,
     "metadata": {},
     "output_type": "execute_result"
    }
   ],
   "source": [
    "X_train"
   ]
  },
  {
   "cell_type": "code",
   "execution_count": 210,
   "metadata": {},
   "outputs": [
    {
     "data": {
      "text/plain": [
       "993    3\n",
       "859    3\n",
       "298    3\n",
       "553    1\n",
       "672    1\n",
       "      ..\n",
       "835    1\n",
       "192    3\n",
       "629    1\n",
       "559    1\n",
       "684    2\n",
       "Name: L, Length: 1000, dtype: int64"
      ]
     },
     "execution_count": 210,
     "metadata": {},
     "output_type": "execute_result"
    }
   ],
   "source": [
    "Y_train"
   ]
  },
  {
   "cell_type": "code",
   "execution_count": 211,
   "metadata": {},
   "outputs": [],
   "source": [
    "#scatter plot"
   ]
  },
  {
   "cell_type": "code",
   "execution_count": 212,
   "metadata": {},
   "outputs": [
    {
     "data": {
      "image/png": "[encoded data removed]",
      "text/plain": [
       "<Figure size 432x288 with 1 Axes>"
      ]
     },
     "metadata": {},
     "output_type": "display_data"
    }
   ],
   "source": [
    "plt.scatter(train['F1'],train['F2'])\n",
    "plt.show()"
   ]
  },
  {
   "cell_type": "code",
   "execution_count": 213,
   "metadata": {},
   "outputs": [
    {
     "data": {
      "image/png": "[encoded data removed]",
      "text/plain": [
       "<Figure size 432x288 with 1 Axes>"
      ]
     },
     "metadata": {},
     "output_type": "display_data"
    }
   ],
   "source": [
    "plt.scatter(train['F1'],train['F3'])\n",
    "plt.show()"
   ]
  },
  {
   "cell_type": "code",
   "execution_count": 214,
   "metadata": {},
   "outputs": [
    {
     "data": {
      "image/png": "[encoded data removed]",
      "text/plain": [
       "<Figure size 432x288 with 1 Axes>"
      ]
     },
     "metadata": {},
     "output_type": "display_data"
    }
   ],
   "source": [
    "plt.scatter(train['F1'],train['F4'])\n",
    "plt.show()"
   ]
  },
  {
   "cell_type": "code",
   "execution_count": 215,
   "metadata": {},
   "outputs": [],
   "source": [
    "\n",
    "train.to_csv(\"Trainingset_1.csv\",index=False)"
   ]
  },
  {
   "cell_type": "markdown",
   "metadata": {},
   "source": [
    "# TASK 2: Principle component analysis"
   ]
  },
  {
   "cell_type": "code",
   "execution_count": 223,
   "metadata": {},
   "outputs": [
    {
     "data": {
      "text/html": [
       "<div>\n",
       "<style scoped>\n",
       "    .dataframe tbody tr th:only-of-type {\n",
       "        vertical-align: middle;\n",
       "    }\n",
       "\n",
       "    .dataframe tbody tr th {\n",
       "        vertical-align: top;\n",
       "    }\n",
       "\n",
       "    .dataframe thead th {\n",
       "        text-align: right;\n",
       "    }\n",
       "</style>\n",
       "<table border=\"1\" class=\"dataframe\">\n",
       "  <thead>\n",
       "    <tr style=\"text-align: right;\">\n",
       "      <th></th>\n",
       "      <th>F1</th>\n",
       "      <th>F2</th>\n",
       "      <th>F3</th>\n",
       "      <th>F4</th>\n",
       "      <th>F5</th>\n",
       "      <th>F6</th>\n",
       "      <th>F7</th>\n",
       "      <th>F8</th>\n",
       "      <th>F9</th>\n",
       "      <th>F10</th>\n",
       "      <th>F11</th>\n",
       "      <th>F12</th>\n",
       "      <th>L</th>\n",
       "    </tr>\n",
       "  </thead>\n",
       "  <tbody>\n",
       "    <tr>\n",
       "      <th>0</th>\n",
       "      <td>0.3907</td>\n",
       "      <td>0.6294</td>\n",
       "      <td>0.5879</td>\n",
       "      <td>0.7718</td>\n",
       "      <td>0.8172</td>\n",
       "      <td>0.6377</td>\n",
       "      <td>1.6973</td>\n",
       "      <td>0.0452</td>\n",
       "      <td>0.1263</td>\n",
       "      <td>1.8459</td>\n",
       "      <td>-0.0019</td>\n",
       "      <td>0.0013</td>\n",
       "      <td>3</td>\n",
       "    </tr>\n",
       "    <tr>\n",
       "      <th>1</th>\n",
       "      <td>0.3116</td>\n",
       "      <td>0.2006</td>\n",
       "      <td>0.6378</td>\n",
       "      <td>0.1844</td>\n",
       "      <td>0.8251</td>\n",
       "      <td>0.1021</td>\n",
       "      <td>1.7316</td>\n",
       "      <td>-0.0020</td>\n",
       "      <td>-0.0054</td>\n",
       "      <td>0.0055</td>\n",
       "      <td>0.0616</td>\n",
       "      <td>-0.0748</td>\n",
       "      <td>3</td>\n",
       "    </tr>\n",
       "    <tr>\n",
       "      <th>2</th>\n",
       "      <td>-0.0482</td>\n",
       "      <td>0.6359</td>\n",
       "      <td>0.0180</td>\n",
       "      <td>0.8810</td>\n",
       "      <td>0.2713</td>\n",
       "      <td>0.7287</td>\n",
       "      <td>-0.0079</td>\n",
       "      <td>1.7429</td>\n",
       "      <td>-0.0730</td>\n",
       "      <td>2.0824</td>\n",
       "      <td>0.0142</td>\n",
       "      <td>-0.0183</td>\n",
       "      <td>3</td>\n",
       "    </tr>\n",
       "    <tr>\n",
       "      <th>3</th>\n",
       "      <td>0.2398</td>\n",
       "      <td>0.5381</td>\n",
       "      <td>0.4280</td>\n",
       "      <td>0.7827</td>\n",
       "      <td>0.4594</td>\n",
       "      <td>0.9249</td>\n",
       "      <td>0.4543</td>\n",
       "      <td>0.7498</td>\n",
       "      <td>0.4837</td>\n",
       "      <td>0.9178</td>\n",
       "      <td>0.3558</td>\n",
       "      <td>0.8688</td>\n",
       "      <td>1</td>\n",
       "    </tr>\n",
       "    <tr>\n",
       "      <th>4</th>\n",
       "      <td>0.4894</td>\n",
       "      <td>0.2322</td>\n",
       "      <td>0.9444</td>\n",
       "      <td>0.1599</td>\n",
       "      <td>1.1365</td>\n",
       "      <td>0.1100</td>\n",
       "      <td>0.9970</td>\n",
       "      <td>0.0940</td>\n",
       "      <td>1.0839</td>\n",
       "      <td>0.1925</td>\n",
       "      <td>0.9986</td>\n",
       "      <td>0.0970</td>\n",
       "      <td>1</td>\n",
       "    </tr>\n",
       "    <tr>\n",
       "      <th>...</th>\n",
       "      <td>...</td>\n",
       "      <td>...</td>\n",
       "      <td>...</td>\n",
       "      <td>...</td>\n",
       "      <td>...</td>\n",
       "      <td>...</td>\n",
       "      <td>...</td>\n",
       "      <td>...</td>\n",
       "      <td>...</td>\n",
       "      <td>...</td>\n",
       "      <td>...</td>\n",
       "      <td>...</td>\n",
       "      <td>...</td>\n",
       "    </tr>\n",
       "    <tr>\n",
       "      <th>995</th>\n",
       "      <td>0.4713</td>\n",
       "      <td>0.4386</td>\n",
       "      <td>0.7293</td>\n",
       "      <td>0.6936</td>\n",
       "      <td>0.7792</td>\n",
       "      <td>0.8545</td>\n",
       "      <td>0.6979</td>\n",
       "      <td>0.7343</td>\n",
       "      <td>0.8918</td>\n",
       "      <td>0.7419</td>\n",
       "      <td>0.6975</td>\n",
       "      <td>0.7380</td>\n",
       "      <td>1</td>\n",
       "    </tr>\n",
       "    <tr>\n",
       "      <th>996</th>\n",
       "      <td>0.0429</td>\n",
       "      <td>0.7170</td>\n",
       "      <td>0.2490</td>\n",
       "      <td>0.8308</td>\n",
       "      <td>0.4208</td>\n",
       "      <td>0.7661</td>\n",
       "      <td>-0.0232</td>\n",
       "      <td>1.7629</td>\n",
       "      <td>0.0186</td>\n",
       "      <td>1.9788</td>\n",
       "      <td>-0.0687</td>\n",
       "      <td>0.0813</td>\n",
       "      <td>3</td>\n",
       "    </tr>\n",
       "    <tr>\n",
       "      <th>997</th>\n",
       "      <td>0.9711</td>\n",
       "      <td>0.1022</td>\n",
       "      <td>1.4946</td>\n",
       "      <td>0.2016</td>\n",
       "      <td>1.7635</td>\n",
       "      <td>0.1583</td>\n",
       "      <td>1.5542</td>\n",
       "      <td>0.1290</td>\n",
       "      <td>1.8343</td>\n",
       "      <td>0.1014</td>\n",
       "      <td>1.4889</td>\n",
       "      <td>0.2066</td>\n",
       "      <td>1</td>\n",
       "    </tr>\n",
       "    <tr>\n",
       "      <th>998</th>\n",
       "      <td>0.4445</td>\n",
       "      <td>0.4328</td>\n",
       "      <td>0.7354</td>\n",
       "      <td>0.6306</td>\n",
       "      <td>0.7351</td>\n",
       "      <td>0.8423</td>\n",
       "      <td>0.7142</td>\n",
       "      <td>0.6597</td>\n",
       "      <td>0.8077</td>\n",
       "      <td>0.7814</td>\n",
       "      <td>0.6867</td>\n",
       "      <td>0.6933</td>\n",
       "      <td>1</td>\n",
       "    </tr>\n",
       "    <tr>\n",
       "      <th>999</th>\n",
       "      <td>1.0203</td>\n",
       "      <td>0.1023</td>\n",
       "      <td>1.3399</td>\n",
       "      <td>0.3863</td>\n",
       "      <td>0.8918</td>\n",
       "      <td>0.4010</td>\n",
       "      <td>1.4000</td>\n",
       "      <td>0.3113</td>\n",
       "      <td>0.9264</td>\n",
       "      <td>0.3066</td>\n",
       "      <td>1.2568</td>\n",
       "      <td>0.4880</td>\n",
       "      <td>2</td>\n",
       "    </tr>\n",
       "  </tbody>\n",
       "</table>\n",
       "<p>1000 rows × 13 columns</p>\n",
       "</div>"
      ],
      "text/plain": [
       "         F1      F2      F3      F4      F5      F6      F7      F8      F9  \\\n",
       "0    0.3907  0.6294  0.5879  0.7718  0.8172  0.6377  1.6973  0.0452  0.1263   \n",
       "1    0.3116  0.2006  0.6378  0.1844  0.8251  0.1021  1.7316 -0.0020 -0.0054   \n",
       "2   -0.0482  0.6359  0.0180  0.8810  0.2713  0.7287 -0.0079  1.7429 -0.0730   \n",
       "3    0.2398  0.5381  0.4280  0.7827  0.4594  0.9249  0.4543  0.7498  0.4837   \n",
       "4    0.4894  0.2322  0.9444  0.1599  1.1365  0.1100  0.9970  0.0940  1.0839   \n",
       "..      ...     ...     ...     ...     ...     ...     ...     ...     ...   \n",
       "995  0.4713  0.4386  0.7293  0.6936  0.7792  0.8545  0.6979  0.7343  0.8918   \n",
       "996  0.0429  0.7170  0.2490  0.8308  0.4208  0.7661 -0.0232  1.7629  0.0186   \n",
       "997  0.9711  0.1022  1.4946  0.2016  1.7635  0.1583  1.5542  0.1290  1.8343   \n",
       "998  0.4445  0.4328  0.7354  0.6306  0.7351  0.8423  0.7142  0.6597  0.8077   \n",
       "999  1.0203  0.1023  1.3399  0.3863  0.8918  0.4010  1.4000  0.3113  0.9264   \n",
       "\n",
       "        F10     F11     F12  L  \n",
       "0    1.8459 -0.0019  0.0013  3  \n",
       "1    0.0055  0.0616 -0.0748  3  \n",
       "2    2.0824  0.0142 -0.0183  3  \n",
       "3    0.9178  0.3558  0.8688  1  \n",
       "4    0.1925  0.9986  0.0970  1  \n",
       "..      ...     ...     ... ..  \n",
       "995  0.7419  0.6975  0.7380  1  \n",
       "996  1.9788 -0.0687  0.0813  3  \n",
       "997  0.1014  1.4889  0.2066  1  \n",
       "998  0.7814  0.6867  0.6933  1  \n",
       "999  0.3066  1.2568  0.4880  2  \n",
       "\n",
       "[1000 rows x 13 columns]"
      ]
     },
     "execution_count": 223,
     "metadata": {},
     "output_type": "execute_result"
    }
   ],
   "source": [
    "trainset = pd.read_csv(\"Trainingset_1.csv\")\n",
    "trainset\n",
    "\n"
   ]
  },
  {
   "cell_type": "code",
   "execution_count": 220,
   "metadata": {},
   "outputs": [],
   "source": [
    "from sklearn.decomposition import PCA\n",
    "from sklearn.linear_model import LogisticRegression  \n"
   ]
  },
  {
   "cell_type": "code",
   "execution_count": 224,
   "metadata": {},
   "outputs": [
    {
     "name": "stderr",
     "output_type": "stream",
     "text": [
      "*c* argument looks like a single numeric RGB or RGBA sequence, which should be avoided as value-mapping will have precedence in case its length matches with *x* & *y*.  Please use the *color* keyword-argument or provide a 2-D array with a single row if you intend to specify the same RGB or RGBA value for all points.\n",
      "*c* argument looks like a single numeric RGB or RGBA sequence, which should be avoided as value-mapping will have precedence in case its length matches with *x* & *y*.  Please use the *color* keyword-argument or provide a 2-D array with a single row if you intend to specify the same RGB or RGBA value for all points.\n",
      "*c* argument looks like a single numeric RGB or RGBA sequence, which should be avoided as value-mapping will have precedence in case its length matches with *x* & *y*.  Please use the *color* keyword-argument or provide a 2-D array with a single row if you intend to specify the same RGB or RGBA value for all points.\n"
     ]
    },
    {
     "data": {
      "image/png": "[encoded data removed]",
      "text/plain": [
       "<Figure size 432x288 with 1 Axes>"
      ]
     },
     "metadata": {},
     "output_type": "display_data"
    }
   ],
   "source": [
    "A = trainset.iloc[:, 0:13].values\n",
    "B = trainset.iloc[:, 12].values\n",
    "# Splitting the A and B into the\n",
    "# Training set and Testing set\n",
    "from sklearn.model_selection import train_test_split\n",
    "  \n",
    "A_train, A_test, B_train, B_test = train_test_split(A, B, test_size = 0.2, random_state = 0)\n",
    "# performing preprocessing part\n",
    "from sklearn.preprocessing import StandardScaler\n",
    "sc = StandardScaler()\n",
    "  \n",
    "A_train = sc.fit_transform(A_train)\n",
    "A_test = sc.transform(A_test)\n",
    "\n",
    "\n",
    "pca = PCA(n_components = 2)\n",
    "  \n",
    "A_train = pca.fit_transform(A_train)\n",
    "A_test = pca.transform(A_test)\n",
    "  \n",
    "explained_variance = pca.explained_variance_ratio_\n",
    "classifier = LogisticRegression(random_state = 0)\n",
    "classifier.fit(A_train, B_train)\n",
    "# Predicting the test set result using \n",
    "# predict function under LogisticRegression \n",
    "B_pred = classifier.predict(A_test)\n",
    "# Predicting the test set result using \n",
    "# predict function under LogisticRegression \n",
    "B_pred = classifier.predict(A_test)\n",
    "# making confusion matrix between\n",
    "#  test set of Y and predicted value.\n",
    "from sklearn.metrics import confusion_matrix\n",
    "  \n",
    "cm = confusion_matrix(B_test, B_pred)\n",
    "# Predicting the training set\n",
    "# result through scatter plot \n",
    "from matplotlib.colors import ListedColormap\n",
    "  \n",
    "X_set, y_set = A_train, B_train\n",
    "X1, X2 = np.meshgrid(np.arange(start = X_set[:, 0].min() - 1,\n",
    "                     stop = X_set[:, 0].max() + 1, step = 0.01),\n",
    "                     np.arange(start = X_set[:, 1].min() - 1,\n",
    "                     stop = X_set[:, 1].max() + 1, step = 0.01))\n",
    "  \n",
    "plt.contourf(X1, X2, classifier.predict(np.array([X1.ravel(),\n",
    "             X2.ravel()]).T).reshape(X1.shape), alpha = 0.75,\n",
    "             cmap = ListedColormap(('yellow', 'white', 'aquamarine')))\n",
    "  \n",
    "plt.xlim(X1.min(), X1.max())\n",
    "plt.ylim(X2.min(), X2.max())\n",
    "  \n",
    "for i, j in enumerate(np.unique(y_set)):\n",
    "    plt.scatter(X_set[y_set == j, 0], X_set[y_set == j, 1],\n",
    "                c = ListedColormap(('red', 'green', 'blue'))(i), label = j)\n",
    "  \n",
    "plt.title('Logistic Regression (Training set)')\n",
    "plt.xlabel('PC1') # for Xlabel\n",
    "plt.ylabel('PC2') # for Ylabel\n",
    "plt.legend() # to show legend\n",
    "  \n",
    "# show scatter plot\n",
    "plt.show()"
   ]
  },
  {
   "cell_type": "code",
   "execution_count": 225,
   "metadata": {},
   "outputs": [
    {
     "name": "stderr",
     "output_type": "stream",
     "text": [
      "*c* argument looks like a single numeric RGB or RGBA sequence, which should be avoided as value-mapping will have precedence in case its length matches with *x* & *y*.  Please use the *color* keyword-argument or provide a 2-D array with a single row if you intend to specify the same RGB or RGBA value for all points.\n",
      "*c* argument looks like a single numeric RGB or RGBA sequence, which should be avoided as value-mapping will have precedence in case its length matches with *x* & *y*.  Please use the *color* keyword-argument or provide a 2-D array with a single row if you intend to specify the same RGB or RGBA value for all points.\n",
      "*c* argument looks like a single numeric RGB or RGBA sequence, which should be avoided as value-mapping will have precedence in case its length matches with *x* & *y*.  Please use the *color* keyword-argument or provide a 2-D array with a single row if you intend to specify the same RGB or RGBA value for all points.\n"
     ]
    },
    {
     "data": {
      "image/png": "[encoded data removed]",
      "text/plain": [
       "<Figure size 432x288 with 1 Axes>"
      ]
     },
     "metadata": {},
     "output_type": "display_data"
    }
   ],
   "source": [
    "# Visualising the Test set results through scatter plot\n",
    "from matplotlib.colors import ListedColormap\n",
    "  \n",
    "X_set, y_set = A_test, B_test\n",
    "  \n",
    "X1, X2 = np.meshgrid(np.arange(start = X_set[:, 0].min() - 1,\n",
    "                     stop = X_set[:, 0].max() + 1, step = 0.01),\n",
    "                     np.arange(start = X_set[:, 1].min() - 1,\n",
    "                     stop = X_set[:, 1].max() + 1, step = 0.01))\n",
    "  \n",
    "plt.contourf(X1, X2, classifier.predict(np.array([X1.ravel(),\n",
    "             X2.ravel()]).T).reshape(X1.shape), alpha = 0.75,\n",
    "             cmap = ListedColormap(('yellow', 'white', 'aquamarine'))) \n",
    "  \n",
    "plt.xlim(X1.min(), X1.max())\n",
    "plt.ylim(X2.min(), X2.max())\n",
    "  \n",
    "for i, j in enumerate(np.unique(y_set)):\n",
    "    plt.scatter(X_set[y_set == j, 0], X_set[y_set == j, 1],\n",
    "                c = ListedColormap(('red', 'green', 'blue'))(i), label = j)\n",
    "  \n",
    "# title for scatter plot\n",
    "plt.title('Logistic Regression (Test set)') \n",
    "plt.xlabel('PC1') # for Xlabel\n",
    "plt.ylabel('PC2') # for Ylabel\n",
    "plt.legend()\n",
    "  \n",
    "# show scatter plot\n",
    "plt.show()"
   ]
  },
  {
   "cell_type": "code",
   "execution_count": 230,
   "metadata": {},
   "outputs": [
    {
     "data": {
      "text/plain": [
       "array([0.41402327, 0.2064377 ])"
      ]
     },
     "execution_count": 230,
     "metadata": {},
     "output_type": "execute_result"
    }
   ],
   "source": [
    "#for scree plot\n",
    "\n",
    "pca.explained_variance_ratio_"
   ]
  },
  {
   "cell_type": "code",
   "execution_count": 236,
   "metadata": {},
   "outputs": [
    {
     "data": {
      "text/plain": [
       "Text(0.5, 1.0, 'Scree Plot of variance explained ratio for each principal component')"
      ]
     },
     "execution_count": 236,
     "metadata": {},
     "output_type": "execute_result"
    },
    {
     "data": {
      "image/png": "[encoded data removed]",
      "text/plain": [
       "<Figure size 1296x432 with 1 Axes>"
      ]
     },
     "metadata": {},
     "output_type": "display_data"
    }
   ],
   "source": [
    "num_components=len(pca.explained_variance_ratio_)\n",
    "index = np.arange(num_components)\n",
    "values = pca.explained_variance_ratio_\n",
    "\n",
    "#define the graph\n",
    "\n",
    "plt.figure(figsize=(18,6))\n",
    "ax= plt.subplot(111)\n",
    "cumulative = np.cumsum(values)\n",
    "\n",
    "ax.bar(index,values)\n",
    "ax.plot(index,cumulative)\n",
    "\n",
    "#add annotation to our graph \n",
    "for val in range (num_components):\n",
    "    ax.annotate(r\"%s\" % ((str(values[val]*100)[:3])),(index[val],values[val]),\n",
    "            va = 'bottom', ha= 'center', fontsize =6)\n",
    "\n",
    "#setting tick parameters\n",
    "ax.xaxis.set_tick_params(width=1)\n",
    "ax.yaxis.set_tick_params(width =3,length =15)\n",
    "\n",
    "#labeling x and y axis\n",
    "ax.set_xlabel(\"Principal component percentages\")\n",
    "ax.set_ylabel(\"variance explained percentage\")\n",
    "plt.title(\"Scree Plot of variance explained ratio for each principal component\")\n",
    "\n"
   ]
  },
  {
   "cell_type": "markdown",
   "metadata": {},
   "source": [
    "# TASK 3: Divide whole set into a smaller training set II and a validation set\n"
   ]
  },
  {
   "cell_type": "code",
   "execution_count": 240,
   "metadata": {},
   "outputs": [
    {
     "data": {
      "text/plain": [
       "1000"
      ]
     },
     "execution_count": 240,
     "metadata": {},
     "output_type": "execute_result"
    }
   ],
   "source": [
    "len(trainset)"
   ]
  },
  {
   "cell_type": "code",
   "execution_count": 241,
   "metadata": {},
   "outputs": [
    {
     "data": {
      "text/html": [
       "<div>\n",
       "<style scoped>\n",
       "    .dataframe tbody tr th:only-of-type {\n",
       "        vertical-align: middle;\n",
       "    }\n",
       "\n",
       "    .dataframe tbody tr th {\n",
       "        vertical-align: top;\n",
       "    }\n",
       "\n",
       "    .dataframe thead th {\n",
       "        text-align: right;\n",
       "    }\n",
       "</style>\n",
       "<table border=\"1\" class=\"dataframe\">\n",
       "  <thead>\n",
       "    <tr style=\"text-align: right;\">\n",
       "      <th></th>\n",
       "      <th>F1</th>\n",
       "      <th>F2</th>\n",
       "      <th>F3</th>\n",
       "      <th>F4</th>\n",
       "      <th>F5</th>\n",
       "      <th>F6</th>\n",
       "      <th>F7</th>\n",
       "      <th>F8</th>\n",
       "      <th>F9</th>\n",
       "      <th>F10</th>\n",
       "      <th>F11</th>\n",
       "      <th>F12</th>\n",
       "      <th>L</th>\n",
       "    </tr>\n",
       "  </thead>\n",
       "  <tbody>\n",
       "    <tr>\n",
       "      <th>0</th>\n",
       "      <td>0.3907</td>\n",
       "      <td>0.6294</td>\n",
       "      <td>0.5879</td>\n",
       "      <td>0.7718</td>\n",
       "      <td>0.8172</td>\n",
       "      <td>0.6377</td>\n",
       "      <td>1.6973</td>\n",
       "      <td>0.0452</td>\n",
       "      <td>0.1263</td>\n",
       "      <td>1.8459</td>\n",
       "      <td>-0.0019</td>\n",
       "      <td>0.0013</td>\n",
       "      <td>3</td>\n",
       "    </tr>\n",
       "    <tr>\n",
       "      <th>1</th>\n",
       "      <td>0.3116</td>\n",
       "      <td>0.2006</td>\n",
       "      <td>0.6378</td>\n",
       "      <td>0.1844</td>\n",
       "      <td>0.8251</td>\n",
       "      <td>0.1021</td>\n",
       "      <td>1.7316</td>\n",
       "      <td>-0.0020</td>\n",
       "      <td>-0.0054</td>\n",
       "      <td>0.0055</td>\n",
       "      <td>0.0616</td>\n",
       "      <td>-0.0748</td>\n",
       "      <td>3</td>\n",
       "    </tr>\n",
       "    <tr>\n",
       "      <th>2</th>\n",
       "      <td>-0.0482</td>\n",
       "      <td>0.6359</td>\n",
       "      <td>0.0180</td>\n",
       "      <td>0.8810</td>\n",
       "      <td>0.2713</td>\n",
       "      <td>0.7287</td>\n",
       "      <td>-0.0079</td>\n",
       "      <td>1.7429</td>\n",
       "      <td>-0.0730</td>\n",
       "      <td>2.0824</td>\n",
       "      <td>0.0142</td>\n",
       "      <td>-0.0183</td>\n",
       "      <td>3</td>\n",
       "    </tr>\n",
       "    <tr>\n",
       "      <th>3</th>\n",
       "      <td>0.2398</td>\n",
       "      <td>0.5381</td>\n",
       "      <td>0.4280</td>\n",
       "      <td>0.7827</td>\n",
       "      <td>0.4594</td>\n",
       "      <td>0.9249</td>\n",
       "      <td>0.4543</td>\n",
       "      <td>0.7498</td>\n",
       "      <td>0.4837</td>\n",
       "      <td>0.9178</td>\n",
       "      <td>0.3558</td>\n",
       "      <td>0.8688</td>\n",
       "      <td>1</td>\n",
       "    </tr>\n",
       "    <tr>\n",
       "      <th>4</th>\n",
       "      <td>0.4894</td>\n",
       "      <td>0.2322</td>\n",
       "      <td>0.9444</td>\n",
       "      <td>0.1599</td>\n",
       "      <td>1.1365</td>\n",
       "      <td>0.1100</td>\n",
       "      <td>0.9970</td>\n",
       "      <td>0.0940</td>\n",
       "      <td>1.0839</td>\n",
       "      <td>0.1925</td>\n",
       "      <td>0.9986</td>\n",
       "      <td>0.0970</td>\n",
       "      <td>1</td>\n",
       "    </tr>\n",
       "    <tr>\n",
       "      <th>...</th>\n",
       "      <td>...</td>\n",
       "      <td>...</td>\n",
       "      <td>...</td>\n",
       "      <td>...</td>\n",
       "      <td>...</td>\n",
       "      <td>...</td>\n",
       "      <td>...</td>\n",
       "      <td>...</td>\n",
       "      <td>...</td>\n",
       "      <td>...</td>\n",
       "      <td>...</td>\n",
       "      <td>...</td>\n",
       "      <td>...</td>\n",
       "    </tr>\n",
       "    <tr>\n",
       "      <th>295</th>\n",
       "      <td>0.4475</td>\n",
       "      <td>0.6681</td>\n",
       "      <td>0.3219</td>\n",
       "      <td>0.5937</td>\n",
       "      <td>0.2144</td>\n",
       "      <td>0.5219</td>\n",
       "      <td>0.2775</td>\n",
       "      <td>0.6470</td>\n",
       "      <td>0.1795</td>\n",
       "      <td>0.5440</td>\n",
       "      <td>0.2650</td>\n",
       "      <td>0.6645</td>\n",
       "      <td>2</td>\n",
       "    </tr>\n",
       "    <tr>\n",
       "      <th>296</th>\n",
       "      <td>1.0284</td>\n",
       "      <td>0.0893</td>\n",
       "      <td>0.4097</td>\n",
       "      <td>0.9375</td>\n",
       "      <td>0.2813</td>\n",
       "      <td>0.6865</td>\n",
       "      <td>0.3827</td>\n",
       "      <td>0.9620</td>\n",
       "      <td>0.2830</td>\n",
       "      <td>0.6586</td>\n",
       "      <td>0.3508</td>\n",
       "      <td>1.0086</td>\n",
       "      <td>2</td>\n",
       "    </tr>\n",
       "    <tr>\n",
       "      <th>297</th>\n",
       "      <td>1.1509</td>\n",
       "      <td>-0.0533</td>\n",
       "      <td>0.8148</td>\n",
       "      <td>0.1712</td>\n",
       "      <td>0.6775</td>\n",
       "      <td>0.0884</td>\n",
       "      <td>0.8537</td>\n",
       "      <td>0.1243</td>\n",
       "      <td>0.6137</td>\n",
       "      <td>0.1453</td>\n",
       "      <td>0.7788</td>\n",
       "      <td>0.2154</td>\n",
       "      <td>2</td>\n",
       "    </tr>\n",
       "    <tr>\n",
       "      <th>298</th>\n",
       "      <td>0.5221</td>\n",
       "      <td>0.5633</td>\n",
       "      <td>0.9389</td>\n",
       "      <td>0.7340</td>\n",
       "      <td>0.9714</td>\n",
       "      <td>0.9561</td>\n",
       "      <td>0.9044</td>\n",
       "      <td>0.7730</td>\n",
       "      <td>1.1164</td>\n",
       "      <td>0.8080</td>\n",
       "      <td>0.9204</td>\n",
       "      <td>0.7541</td>\n",
       "      <td>1</td>\n",
       "    </tr>\n",
       "    <tr>\n",
       "      <th>299</th>\n",
       "      <td>1.1308</td>\n",
       "      <td>-0.0286</td>\n",
       "      <td>1.0005</td>\n",
       "      <td>0.7387</td>\n",
       "      <td>0.8390</td>\n",
       "      <td>0.1874</td>\n",
       "      <td>1.0848</td>\n",
       "      <td>0.6374</td>\n",
       "      <td>0.8534</td>\n",
       "      <td>0.1373</td>\n",
       "      <td>1.0422</td>\n",
       "      <td>0.6836</td>\n",
       "      <td>2</td>\n",
       "    </tr>\n",
       "  </tbody>\n",
       "</table>\n",
       "<p>300 rows × 13 columns</p>\n",
       "</div>"
      ],
      "text/plain": [
       "         F1      F2      F3      F4      F5      F6      F7      F8      F9  \\\n",
       "0    0.3907  0.6294  0.5879  0.7718  0.8172  0.6377  1.6973  0.0452  0.1263   \n",
       "1    0.3116  0.2006  0.6378  0.1844  0.8251  0.1021  1.7316 -0.0020 -0.0054   \n",
       "2   -0.0482  0.6359  0.0180  0.8810  0.2713  0.7287 -0.0079  1.7429 -0.0730   \n",
       "3    0.2398  0.5381  0.4280  0.7827  0.4594  0.9249  0.4543  0.7498  0.4837   \n",
       "4    0.4894  0.2322  0.9444  0.1599  1.1365  0.1100  0.9970  0.0940  1.0839   \n",
       "..      ...     ...     ...     ...     ...     ...     ...     ...     ...   \n",
       "295  0.4475  0.6681  0.3219  0.5937  0.2144  0.5219  0.2775  0.6470  0.1795   \n",
       "296  1.0284  0.0893  0.4097  0.9375  0.2813  0.6865  0.3827  0.9620  0.2830   \n",
       "297  1.1509 -0.0533  0.8148  0.1712  0.6775  0.0884  0.8537  0.1243  0.6137   \n",
       "298  0.5221  0.5633  0.9389  0.7340  0.9714  0.9561  0.9044  0.7730  1.1164   \n",
       "299  1.1308 -0.0286  1.0005  0.7387  0.8390  0.1874  1.0848  0.6374  0.8534   \n",
       "\n",
       "        F10     F11     F12  L  \n",
       "0    1.8459 -0.0019  0.0013  3  \n",
       "1    0.0055  0.0616 -0.0748  3  \n",
       "2    2.0824  0.0142 -0.0183  3  \n",
       "3    0.9178  0.3558  0.8688  1  \n",
       "4    0.1925  0.9986  0.0970  1  \n",
       "..      ...     ...     ... ..  \n",
       "295  0.5440  0.2650  0.6645  2  \n",
       "296  0.6586  0.3508  1.0086  2  \n",
       "297  0.1453  0.7788  0.2154  2  \n",
       "298  0.8080  0.9204  0.7541  1  \n",
       "299  0.1373  1.0422  0.6836  2  \n",
       "\n",
       "[300 rows x 13 columns]"
      ]
     },
     "execution_count": 241,
     "metadata": {},
     "output_type": "execute_result"
    }
   ],
   "source": [
    "validation_set = trainset[:300]\n",
    "trainingsetii = trainset[300:1000]\n",
    "validation_set\n"
   ]
  },
  {
   "cell_type": "code",
   "execution_count": 238,
   "metadata": {},
   "outputs": [],
   "source": [
    "validation_set.to_csv(\"Validationset.csv\",index=False)"
   ]
  },
  {
   "cell_type": "code",
   "execution_count": 246,
   "metadata": {},
   "outputs": [
    {
     "data": {
      "text/html": [
       "<div>\n",
       "<style scoped>\n",
       "    .dataframe tbody tr th:only-of-type {\n",
       "        vertical-align: middle;\n",
       "    }\n",
       "\n",
       "    .dataframe tbody tr th {\n",
       "        vertical-align: top;\n",
       "    }\n",
       "\n",
       "    .dataframe thead th {\n",
       "        text-align: right;\n",
       "    }\n",
       "</style>\n",
       "<table border=\"1\" class=\"dataframe\">\n",
       "  <thead>\n",
       "    <tr style=\"text-align: right;\">\n",
       "      <th></th>\n",
       "      <th>F1</th>\n",
       "      <th>F2</th>\n",
       "      <th>F3</th>\n",
       "      <th>F4</th>\n",
       "      <th>F5</th>\n",
       "      <th>F6</th>\n",
       "      <th>F7</th>\n",
       "      <th>F8</th>\n",
       "      <th>F9</th>\n",
       "      <th>F10</th>\n",
       "      <th>F11</th>\n",
       "      <th>F12</th>\n",
       "      <th>L</th>\n",
       "    </tr>\n",
       "  </thead>\n",
       "  <tbody>\n",
       "    <tr>\n",
       "      <th>300</th>\n",
       "      <td>0.5268</td>\n",
       "      <td>0.3336</td>\n",
       "      <td>0.6997</td>\n",
       "      <td>0.4976</td>\n",
       "      <td>0.9724</td>\n",
       "      <td>0.3158</td>\n",
       "      <td>1.7171</td>\n",
       "      <td>0.0185</td>\n",
       "      <td>0.0106</td>\n",
       "      <td>1.9838</td>\n",
       "      <td>-0.0213</td>\n",
       "      <td>0.0246</td>\n",
       "      <td>3</td>\n",
       "    </tr>\n",
       "    <tr>\n",
       "      <th>301</th>\n",
       "      <td>0.2918</td>\n",
       "      <td>0.2719</td>\n",
       "      <td>0.6459</td>\n",
       "      <td>0.2241</td>\n",
       "      <td>0.7378</td>\n",
       "      <td>0.2574</td>\n",
       "      <td>1.6834</td>\n",
       "      <td>0.0625</td>\n",
       "      <td>0.0286</td>\n",
       "      <td>1.9644</td>\n",
       "      <td>-0.0056</td>\n",
       "      <td>0.0065</td>\n",
       "      <td>3</td>\n",
       "    </tr>\n",
       "    <tr>\n",
       "      <th>302</th>\n",
       "      <td>0.7230</td>\n",
       "      <td>0.2897</td>\n",
       "      <td>1.0617</td>\n",
       "      <td>0.5399</td>\n",
       "      <td>1.2918</td>\n",
       "      <td>0.5118</td>\n",
       "      <td>1.1537</td>\n",
       "      <td>0.4307</td>\n",
       "      <td>1.2086</td>\n",
       "      <td>0.6427</td>\n",
       "      <td>0.9571</td>\n",
       "      <td>0.6620</td>\n",
       "      <td>1</td>\n",
       "    </tr>\n",
       "    <tr>\n",
       "      <th>303</th>\n",
       "      <td>-0.0178</td>\n",
       "      <td>0.9781</td>\n",
       "      <td>0.2480</td>\n",
       "      <td>1.0045</td>\n",
       "      <td>0.2617</td>\n",
       "      <td>1.1303</td>\n",
       "      <td>-0.0576</td>\n",
       "      <td>1.8007</td>\n",
       "      <td>0.0309</td>\n",
       "      <td>1.9653</td>\n",
       "      <td>-0.0677</td>\n",
       "      <td>0.0799</td>\n",
       "      <td>3</td>\n",
       "    </tr>\n",
       "    <tr>\n",
       "      <th>304</th>\n",
       "      <td>0.3390</td>\n",
       "      <td>0.3020</td>\n",
       "      <td>0.5153</td>\n",
       "      <td>0.4942</td>\n",
       "      <td>0.5936</td>\n",
       "      <td>0.5545</td>\n",
       "      <td>0.5314</td>\n",
       "      <td>0.4704</td>\n",
       "      <td>0.6225</td>\n",
       "      <td>0.5370</td>\n",
       "      <td>0.5093</td>\n",
       "      <td>0.4972</td>\n",
       "      <td>1</td>\n",
       "    </tr>\n",
       "    <tr>\n",
       "      <th>...</th>\n",
       "      <td>...</td>\n",
       "      <td>...</td>\n",
       "      <td>...</td>\n",
       "      <td>...</td>\n",
       "      <td>...</td>\n",
       "      <td>...</td>\n",
       "      <td>...</td>\n",
       "      <td>...</td>\n",
       "      <td>...</td>\n",
       "      <td>...</td>\n",
       "      <td>...</td>\n",
       "      <td>...</td>\n",
       "      <td>...</td>\n",
       "    </tr>\n",
       "    <tr>\n",
       "      <th>995</th>\n",
       "      <td>0.4713</td>\n",
       "      <td>0.4386</td>\n",
       "      <td>0.7293</td>\n",
       "      <td>0.6936</td>\n",
       "      <td>0.7792</td>\n",
       "      <td>0.8545</td>\n",
       "      <td>0.6979</td>\n",
       "      <td>0.7343</td>\n",
       "      <td>0.8918</td>\n",
       "      <td>0.7419</td>\n",
       "      <td>0.6975</td>\n",
       "      <td>0.7380</td>\n",
       "      <td>1</td>\n",
       "    </tr>\n",
       "    <tr>\n",
       "      <th>996</th>\n",
       "      <td>0.0429</td>\n",
       "      <td>0.7170</td>\n",
       "      <td>0.2490</td>\n",
       "      <td>0.8308</td>\n",
       "      <td>0.4208</td>\n",
       "      <td>0.7661</td>\n",
       "      <td>-0.0232</td>\n",
       "      <td>1.7629</td>\n",
       "      <td>0.0186</td>\n",
       "      <td>1.9788</td>\n",
       "      <td>-0.0687</td>\n",
       "      <td>0.0813</td>\n",
       "      <td>3</td>\n",
       "    </tr>\n",
       "    <tr>\n",
       "      <th>997</th>\n",
       "      <td>0.9711</td>\n",
       "      <td>0.1022</td>\n",
       "      <td>1.4946</td>\n",
       "      <td>0.2016</td>\n",
       "      <td>1.7635</td>\n",
       "      <td>0.1583</td>\n",
       "      <td>1.5542</td>\n",
       "      <td>0.1290</td>\n",
       "      <td>1.8343</td>\n",
       "      <td>0.1014</td>\n",
       "      <td>1.4889</td>\n",
       "      <td>0.2066</td>\n",
       "      <td>1</td>\n",
       "    </tr>\n",
       "    <tr>\n",
       "      <th>998</th>\n",
       "      <td>0.4445</td>\n",
       "      <td>0.4328</td>\n",
       "      <td>0.7354</td>\n",
       "      <td>0.6306</td>\n",
       "      <td>0.7351</td>\n",
       "      <td>0.8423</td>\n",
       "      <td>0.7142</td>\n",
       "      <td>0.6597</td>\n",
       "      <td>0.8077</td>\n",
       "      <td>0.7814</td>\n",
       "      <td>0.6867</td>\n",
       "      <td>0.6933</td>\n",
       "      <td>1</td>\n",
       "    </tr>\n",
       "    <tr>\n",
       "      <th>999</th>\n",
       "      <td>1.0203</td>\n",
       "      <td>0.1023</td>\n",
       "      <td>1.3399</td>\n",
       "      <td>0.3863</td>\n",
       "      <td>0.8918</td>\n",
       "      <td>0.4010</td>\n",
       "      <td>1.4000</td>\n",
       "      <td>0.3113</td>\n",
       "      <td>0.9264</td>\n",
       "      <td>0.3066</td>\n",
       "      <td>1.2568</td>\n",
       "      <td>0.4880</td>\n",
       "      <td>2</td>\n",
       "    </tr>\n",
       "  </tbody>\n",
       "</table>\n",
       "<p>700 rows × 13 columns</p>\n",
       "</div>"
      ],
      "text/plain": [
       "         F1      F2      F3      F4      F5      F6      F7      F8      F9  \\\n",
       "300  0.5268  0.3336  0.6997  0.4976  0.9724  0.3158  1.7171  0.0185  0.0106   \n",
       "301  0.2918  0.2719  0.6459  0.2241  0.7378  0.2574  1.6834  0.0625  0.0286   \n",
       "302  0.7230  0.2897  1.0617  0.5399  1.2918  0.5118  1.1537  0.4307  1.2086   \n",
       "303 -0.0178  0.9781  0.2480  1.0045  0.2617  1.1303 -0.0576  1.8007  0.0309   \n",
       "304  0.3390  0.3020  0.5153  0.4942  0.5936  0.5545  0.5314  0.4704  0.6225   \n",
       "..      ...     ...     ...     ...     ...     ...     ...     ...     ...   \n",
       "995  0.4713  0.4386  0.7293  0.6936  0.7792  0.8545  0.6979  0.7343  0.8918   \n",
       "996  0.0429  0.7170  0.2490  0.8308  0.4208  0.7661 -0.0232  1.7629  0.0186   \n",
       "997  0.9711  0.1022  1.4946  0.2016  1.7635  0.1583  1.5542  0.1290  1.8343   \n",
       "998  0.4445  0.4328  0.7354  0.6306  0.7351  0.8423  0.7142  0.6597  0.8077   \n",
       "999  1.0203  0.1023  1.3399  0.3863  0.8918  0.4010  1.4000  0.3113  0.9264   \n",
       "\n",
       "        F10     F11     F12  L  \n",
       "300  1.9838 -0.0213  0.0246  3  \n",
       "301  1.9644 -0.0056  0.0065  3  \n",
       "302  0.6427  0.9571  0.6620  1  \n",
       "303  1.9653 -0.0677  0.0799  3  \n",
       "304  0.5370  0.5093  0.4972  1  \n",
       "..      ...     ...     ... ..  \n",
       "995  0.7419  0.6975  0.7380  1  \n",
       "996  1.9788 -0.0687  0.0813  3  \n",
       "997  0.1014  1.4889  0.2066  1  \n",
       "998  0.7814  0.6867  0.6933  1  \n",
       "999  0.3066  1.2568  0.4880  2  \n",
       "\n",
       "[700 rows x 13 columns]"
      ]
     },
     "execution_count": 246,
     "metadata": {},
     "output_type": "execute_result"
    }
   ],
   "source": [
    "trainingsetii"
   ]
  },
  {
   "cell_type": "code",
   "execution_count": 247,
   "metadata": {},
   "outputs": [],
   "source": [
    "\n",
    "trainingsetii.to_csv(\"TrainingSetII.csv\",index=False)"
   ]
  },
  {
   "cell_type": "markdown",
   "metadata": {},
   "source": [
    "# Task 4: INVESTIGATE"
   ]
  },
  {
   "cell_type": "code",
   "execution_count": 252,
   "metadata": {},
   "outputs": [
    {
     "name": "stderr",
     "output_type": "stream",
     "text": [
      "C:\\Users\\seaso\\anaconda3\\lib\\site-packages\\seaborn\\_decorators.py:36: FutureWarning: Pass the following variable as a keyword arg: x. From version 0.12, the only valid positional argument will be `data`, and passing other arguments without an explicit keyword will result in an error or misinterpretation.\n",
      "  warnings.warn(\n"
     ]
    },
    {
     "data": {
      "text/plain": [
       "LinearRegression()"
      ]
     },
     "execution_count": 252,
     "metadata": {},
     "output_type": "execute_result"
    },
    {
     "data": {
      "image/png": "[encoded data removed]",
      "text/plain": [
       "<Figure size 432x288 with 1 Axes>"
      ]
     },
     "metadata": {},
     "output_type": "display_data"
    }
   ],
   "source": [
    "from sklearn.linear_model import LinearRegression\n",
    "\n",
    "\n",
    "\n",
    "Y_train = trainingsetii[\"L\"]\n",
    "\n",
    "# Drop 'label' column\n",
    "X_train = trainingsetii.drop(labels = [\"L\"],axis = 1)  \n",
    "\n",
    "g = sns.countplot(Y_train)\n",
    "\n",
    "Y_train.value_counts()\n",
    "\n",
    "\n",
    "# instantiate the regressor class\n",
    "regressor = LinearRegression()\n",
    "# fit the build the model by fitting the regressor to the training data\n",
    "regressor.fit(X_train, Y_train)"
   ]
  },
  {
   "cell_type": "markdown",
   "metadata": {},
   "source": [
    "# Result of the Model\n"
   ]
  },
  {
   "cell_type": "code",
   "execution_count": 254,
   "metadata": {},
   "outputs": [
    {
     "name": "stderr",
     "output_type": "stream",
     "text": [
      "C:\\Users\\seaso\\anaconda3\\lib\\site-packages\\seaborn\\_decorators.py:36: FutureWarning: Pass the following variable as a keyword arg: x. From version 0.12, the only valid positional argument will be `data`, and passing other arguments without an explicit keyword will result in an error or misinterpretation.\n",
      "  warnings.warn(\n"
     ]
    },
    {
     "name": "stdout",
     "output_type": "stream",
     "text": [
      "The Explained Variance: 0.86\n"
     ]
    },
    {
     "data": {
      "image/png": "[encoded data removed]",
      "text/plain": [
       "<Figure size 432x288 with 1 Axes>"
      ]
     },
     "metadata": {},
     "output_type": "display_data"
    }
   ],
   "source": [
    "\n",
    "Y_test = validation_set[\"L\"]\n",
    "\n",
    "# Drop 'label' column\n",
    "X_test = validation_set.drop(labels = [\"L\"],axis = 1)  \n",
    "\n",
    "g = sns.countplot(Y_test)\n",
    "\n",
    "Y_train.value_counts()\n",
    "# make a prediction set using the test set\n",
    "prediction = regressor.predict(X_test)\n",
    "\n",
    "# Evaluate the prediction accuracy of the model\n",
    "print(\"The Explained Variance: %.2f\" % regressor.score(X_test, Y_test))\n"
   ]
  },
  {
   "cell_type": "code",
   "execution_count": 257,
   "metadata": {},
   "outputs": [
    {
     "name": "stderr",
     "output_type": "stream",
     "text": [
      "No handles with labels found to put in legend.\n"
     ]
    },
    {
     "data": {
      "image/png": "[encoded data removed]",
      "text/plain": [
       "<Figure size 720x504 with 1 Axes>"
      ]
     },
     "metadata": {},
     "output_type": "display_data"
    }
   ],
   "source": [
    "#y_test\n",
    "#prediction.shape[0]\n",
    "plt.figure(figsize=(10, 7))\n",
    "plt.plot(prediction[:100], 'b-') #selecting only 100 values\n",
    "plt.plot(Y_test[:100], 'r-')     #selecting only 100 values\n",
    "plt.legend(); plt.xlabel('Flow in pipe'); plt.ylabel('LEVELS')\n",
    "plt.title('Real(red) Vs Prediction (blue)');"
   ]
  },
  {
   "cell_type": "code",
   "execution_count": null,
   "metadata": {},
   "outputs": [],
   "source": []
  }
 ],
 "metadata": {
  "kernelspec": {
   "display_name": "Python 3",
   "language": "python",
   "name": "python3"
  },
  "language_info": {
   "codemirror_mode": {
    "name": "ipython",
    "version": 3
   },
   "file_extension": ".py",
   "mimetype": "text/x-python",
   "name": "python",
   "nbconvert_exporter": "python",
   "pygments_lexer": "ipython3",
   "version": "3.8.5"
  }
 },
 "nbformat": 4,
 "nbformat_minor": 4
}
